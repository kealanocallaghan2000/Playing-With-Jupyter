{
 "cells": [
  {
   "cell_type": "code",
   "execution_count": null,
   "id": "7fd45835-4309-421e-89e1-b832d6a600a1",
   "metadata": {},
   "outputs": [],
   "source": [
    "i = 1\n",
    "r = 2\n",
    "s = i + r\n"
   ]
  }
 ],
 "metadata": {
  "kernelspec": {
   "display_name": "Python 3",
   "language": "python",
   "name": "python3"
  },
  "language_info": {
   "codemirror_mode": {
    "name": "ipython",
    "version": 3
   },
   "file_extension": ".py",
   "mimetype": "text/x-python",
   "name": "python",
   "nbconvert_exporter": "python",
   "pygments_lexer": "ipython3",
   "version": "3.8.8"
  }
 },
 "nbformat": 4,
 "nbformat_minor": 5
}
